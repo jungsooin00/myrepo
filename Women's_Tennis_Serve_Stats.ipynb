{
  "nbformat": 4,
  "nbformat_minor": 0,
  "metadata": {
    "colab": {
      "name": "Women's Tennis Serve Stats.ipynb",
      "provenance": [],
      "mount_file_id": "1i9BWQQfUgj_j5hWu6YZIN869efZAVy3W",
      "authorship_tag": "ABX9TyMYv5RiRqsDrQ47ImYtLqmv",
      "include_colab_link": true
    },
    "kernelspec": {
      "name": "python3",
      "display_name": "Python 3"
    },
    "language_info": {
      "name": "python"
    }
  },
  "cells": [
    {
      "cell_type": "markdown",
      "metadata": {
        "id": "view-in-github",
        "colab_type": "text"
      },
      "source": [
        "<a href=\"https://colab.research.google.com/github/jungsooin00/myrepo/blob/main/Women's_Tennis_Serve_Stats.ipynb\" target=\"_parent\"><img src=\"https://colab.research.google.com/assets/colab-badge.svg\" alt=\"Open In Colab\"/></a>"
      ]
    },
    {
      "cell_type": "markdown",
      "metadata": {
        "id": "0d3uv4DDljYq"
      },
      "source": [
        "# Women's Tennis Serve Stats\n",
        "### Rachel In    rji245\n",
        "#### SDS 348\n",
        "#### 5/10/2021"
      ]
    },
    {
      "cell_type": "markdown",
      "metadata": {
        "id": "RHKt883rlzOo"
      },
      "source": [
        "*This dataset includes the service game stats for the top 50 women's tennis players in the Women's Tennis Association for 2019. I referred to the WTA Tennis website as well as a website called TennisAbstract to collect and acquire the data.*"
      ]
    },
    {
      "cell_type": "code",
      "metadata": {
        "id": "xlBhLQXulV8N"
      },
      "source": [
        "# Run to allow multiple outputs from a single chunk\n",
        "from IPython.core.interactiveshell import InteractiveShell\n",
        "InteractiveShell.ast_node_interactivity = \"all\""
      ],
      "execution_count": 1,
      "outputs": []
    },
    {
      "cell_type": "code",
      "metadata": {
        "id": "5EccW0MCmA3r"
      },
      "source": [
        "# Import packages\n",
        "import numpy as np\n",
        "import pandas as pd\n",
        "import seaborn as sns\n",
        "import scipy.stats as stats\n",
        "import matplotlib.pyplot as plt"
      ],
      "execution_count": 2,
      "outputs": []
    },
    {
      "cell_type": "code",
      "metadata": {
        "colab": {
          "base_uri": "https://localhost:8080/",
          "height": 204
        },
        "id": "zuwOnSC_mMIQ",
        "outputId": "d7e7f425-e2f0-452d-ff65-f441cfc586a1"
      },
      "source": [
        "# Import and view the dataset\n",
        "serve = pd.read_excel(\"/content/WTA_Top_50_Serve_Stats.xlsx\")\n",
        "serve.head()"
      ],
      "execution_count": 3,
      "outputs": [
        {
          "output_type": "execute_result",
          "data": {
            "text/html": [
              "<div>\n",
              "<style scoped>\n",
              "    .dataframe tbody tr th:only-of-type {\n",
              "        vertical-align: middle;\n",
              "    }\n",
              "\n",
              "    .dataframe tbody tr th {\n",
              "        vertical-align: top;\n",
              "    }\n",
              "\n",
              "    .dataframe thead th {\n",
              "        text-align: right;\n",
              "    }\n",
              "</style>\n",
              "<table border=\"1\" class=\"dataframe\">\n",
              "  <thead>\n",
              "    <tr style=\"text-align: right;\">\n",
              "      <th></th>\n",
              "      <th>Rank</th>\n",
              "      <th>player</th>\n",
              "      <th>Hand</th>\n",
              "      <th>Height</th>\n",
              "      <th>M</th>\n",
              "      <th>M W</th>\n",
              "      <th>M W Perc</th>\n",
              "      <th>SPW</th>\n",
              "      <th>Aces</th>\n",
              "      <th>AcePerc</th>\n",
              "      <th>DFs</th>\n",
              "      <th>DFPerc</th>\n",
              "      <th>1stln</th>\n",
              "      <th>1stPerc</th>\n",
              "      <th>2ndPerc</th>\n",
              "      <th>HldPerc</th>\n",
              "    </tr>\n",
              "  </thead>\n",
              "  <tbody>\n",
              "    <tr>\n",
              "      <th>0</th>\n",
              "      <td>1st</td>\n",
              "      <td>A.Barty</td>\n",
              "      <td>right</td>\n",
              "      <td>under</td>\n",
              "      <td>64</td>\n",
              "      <td>52</td>\n",
              "      <td>0.813</td>\n",
              "      <td>0.637</td>\n",
              "      <td>409</td>\n",
              "      <td>0.092</td>\n",
              "      <td>198</td>\n",
              "      <td>0.044</td>\n",
              "      <td>0.577</td>\n",
              "      <td>0.729</td>\n",
              "      <td>0.512</td>\n",
              "      <td>0.797</td>\n",
              "    </tr>\n",
              "    <tr>\n",
              "      <th>1</th>\n",
              "      <td>2nd</td>\n",
              "      <td>N.Osaka</td>\n",
              "      <td>right</td>\n",
              "      <td>above</td>\n",
              "      <td>51</td>\n",
              "      <td>40</td>\n",
              "      <td>0.784</td>\n",
              "      <td>0.621</td>\n",
              "      <td>351</td>\n",
              "      <td>0.098</td>\n",
              "      <td>97</td>\n",
              "      <td>0.027</td>\n",
              "      <td>0.609</td>\n",
              "      <td>0.719</td>\n",
              "      <td>0.469</td>\n",
              "      <td>0.778</td>\n",
              "    </tr>\n",
              "    <tr>\n",
              "      <th>2</th>\n",
              "      <td>3rd</td>\n",
              "      <td>S.Halep</td>\n",
              "      <td>right</td>\n",
              "      <td>under</td>\n",
              "      <td>56</td>\n",
              "      <td>39</td>\n",
              "      <td>0.696</td>\n",
              "      <td>0.587</td>\n",
              "      <td>87</td>\n",
              "      <td>0.023</td>\n",
              "      <td>138</td>\n",
              "      <td>0.037</td>\n",
              "      <td>0.692</td>\n",
              "      <td>0.635</td>\n",
              "      <td>0.479</td>\n",
              "      <td>0.698</td>\n",
              "    </tr>\n",
              "    <tr>\n",
              "      <th>3</th>\n",
              "      <td>4th</td>\n",
              "      <td>S.Kenin</td>\n",
              "      <td>right</td>\n",
              "      <td>under</td>\n",
              "      <td>70</td>\n",
              "      <td>48</td>\n",
              "      <td>0.686</td>\n",
              "      <td>0.599</td>\n",
              "      <td>137</td>\n",
              "      <td>0.026</td>\n",
              "      <td>278</td>\n",
              "      <td>0.052</td>\n",
              "      <td>0.654</td>\n",
              "      <td>0.662</td>\n",
              "      <td>0.480</td>\n",
              "      <td>0.742</td>\n",
              "    </tr>\n",
              "    <tr>\n",
              "      <th>4</th>\n",
              "      <td>5th</td>\n",
              "      <td>E.Svitolina</td>\n",
              "      <td>right</td>\n",
              "      <td>under</td>\n",
              "      <td>61</td>\n",
              "      <td>39</td>\n",
              "      <td>0.639</td>\n",
              "      <td>0.580</td>\n",
              "      <td>226</td>\n",
              "      <td>0.050</td>\n",
              "      <td>183</td>\n",
              "      <td>0.041</td>\n",
              "      <td>0.603</td>\n",
              "      <td>0.667</td>\n",
              "      <td>0.448</td>\n",
              "      <td>0.697</td>\n",
              "    </tr>\n",
              "  </tbody>\n",
              "</table>\n",
              "</div>"
            ],
            "text/plain": [
              "  Rank       player   Hand Height   M  ...  DFPerc  1stln  1stPerc  2ndPerc  HldPerc\n",
              "0  1st      A.Barty  right  under  64  ...   0.044  0.577    0.729    0.512    0.797\n",
              "1  2nd      N.Osaka  right  above  51  ...   0.027  0.609    0.719    0.469    0.778\n",
              "2  3rd      S.Halep  right  under  56  ...   0.037  0.692    0.635    0.479    0.698\n",
              "3  4th      S.Kenin  right  under  70  ...   0.052  0.654    0.662    0.480    0.742\n",
              "4  5th  E.Svitolina  right  under  61  ...   0.041  0.603    0.667    0.448    0.697\n",
              "\n",
              "[5 rows x 16 columns]"
            ]
          },
          "metadata": {
            "tags": []
          },
          "execution_count": 3
        }
      ]
    },
    {
      "cell_type": "code",
      "metadata": {
        "colab": {
          "base_uri": "https://localhost:8080/"
        },
        "id": "0v6awNAdr-u8",
        "outputId": "31353221-85da-4c7c-aca2-bbcd7777ccf3"
      },
      "source": [
        "# Number of observations and columns\n",
        "serve.shape"
      ],
      "execution_count": 4,
      "outputs": [
        {
          "output_type": "execute_result",
          "data": {
            "text/plain": [
              "(50, 16)"
            ]
          },
          "metadata": {
            "tags": []
          },
          "execution_count": 4
        }
      ]
    },
    {
      "cell_type": "code",
      "metadata": {
        "colab": {
          "base_uri": "https://localhost:8080/"
        },
        "id": "p5qhycUhsE_c",
        "outputId": "467a53ca-eae3-4c4f-970a-a55df9efe535"
      },
      "source": [
        "# Information about the variables\n",
        "serve.info()"
      ],
      "execution_count": 5,
      "outputs": [
        {
          "output_type": "stream",
          "text": [
            "<class 'pandas.core.frame.DataFrame'>\n",
            "RangeIndex: 50 entries, 0 to 49\n",
            "Data columns (total 16 columns):\n",
            " #   Column    Non-Null Count  Dtype  \n",
            "---  ------    --------------  -----  \n",
            " 0   Rank      50 non-null     object \n",
            " 1   player    50 non-null     object \n",
            " 2   Hand      50 non-null     object \n",
            " 3   Height    50 non-null     object \n",
            " 4   M         50 non-null     int64  \n",
            " 5   M W       50 non-null     int64  \n",
            " 6   M W Perc  50 non-null     float64\n",
            " 7   SPW       50 non-null     float64\n",
            " 8   Aces      50 non-null     int64  \n",
            " 9   AcePerc   50 non-null     float64\n",
            " 10  DFs       50 non-null     int64  \n",
            " 11  DFPerc    50 non-null     float64\n",
            " 12  1stln     50 non-null     float64\n",
            " 13  1stPerc   50 non-null     float64\n",
            " 14  2ndPerc   50 non-null     float64\n",
            " 15  HldPerc   50 non-null     float64\n",
            "dtypes: float64(8), int64(4), object(4)\n",
            "memory usage: 6.4+ KB\n"
          ],
          "name": "stdout"
        }
      ]
    },
    {
      "cell_type": "markdown",
      "metadata": {
        "id": "lGYwrH2PwyTM"
      },
      "source": [
        "* The dataset includes 16 variables (12 numerical and 4 categorical) and 50 observations. For the numeric variables, there are 8 where the data type is considered _float64_ (double presicion float), and 4 which are considered the data type _int64_ (integer)."
      ]
    },
    {
      "cell_type": "markdown",
      "metadata": {
        "id": "lGMxEM4VrFxE"
      },
      "source": [
        "### Summary Statistics\n",
        "*For more information of the variables, I provided some summary statistics for the numeric variables. They include the number of observations (count), some descriptive statistics (min, max, median, and mean), standard deviation (std), quartile values (25%, 50%, and 75%), and variance (var).*"
      ]
    },
    {
      "cell_type": "code",
      "metadata": {
        "colab": {
          "base_uri": "https://localhost:8080/",
          "height": 825
        },
        "id": "ifkiYpFE8CrA",
        "outputId": "f5792b0f-a6d0-4eda-a7c9-d333fec8b4e0"
      },
      "source": [
        "# Summary statistics\n",
        "(serve.describe()\n",
        ".T)\n",
        "(serve.filter(['M','M W', 'M W Perc', 'SPW', 'Aces', 'AcePerc', 'DFs','DFPerc', '1stln', '1stPerc', '2ndPerc', 'HldPerc'])\n",
        ".agg(['median', 'var'])\n",
        ".T)"
      ],
      "execution_count": 6,
      "outputs": [
        {
          "output_type": "execute_result",
          "data": {
            "text/html": [
              "<div>\n",
              "<style scoped>\n",
              "    .dataframe tbody tr th:only-of-type {\n",
              "        vertical-align: middle;\n",
              "    }\n",
              "\n",
              "    .dataframe tbody tr th {\n",
              "        vertical-align: top;\n",
              "    }\n",
              "\n",
              "    .dataframe thead th {\n",
              "        text-align: right;\n",
              "    }\n",
              "</style>\n",
              "<table border=\"1\" class=\"dataframe\">\n",
              "  <thead>\n",
              "    <tr style=\"text-align: right;\">\n",
              "      <th></th>\n",
              "      <th>count</th>\n",
              "      <th>mean</th>\n",
              "      <th>std</th>\n",
              "      <th>min</th>\n",
              "      <th>25%</th>\n",
              "      <th>50%</th>\n",
              "      <th>75%</th>\n",
              "      <th>max</th>\n",
              "    </tr>\n",
              "  </thead>\n",
              "  <tbody>\n",
              "    <tr>\n",
              "      <th>M</th>\n",
              "      <td>50.0</td>\n",
              "      <td>47.58000</td>\n",
              "      <td>12.010353</td>\n",
              "      <td>25.000</td>\n",
              "      <td>40.00000</td>\n",
              "      <td>47.5000</td>\n",
              "      <td>54.50000</td>\n",
              "      <td>81.000</td>\n",
              "    </tr>\n",
              "    <tr>\n",
              "      <th>M W</th>\n",
              "      <td>50.0</td>\n",
              "      <td>30.00000</td>\n",
              "      <td>9.936533</td>\n",
              "      <td>14.000</td>\n",
              "      <td>23.00000</td>\n",
              "      <td>28.0000</td>\n",
              "      <td>35.00000</td>\n",
              "      <td>55.000</td>\n",
              "    </tr>\n",
              "    <tr>\n",
              "      <th>M W Perc</th>\n",
              "      <td>50.0</td>\n",
              "      <td>0.62470</td>\n",
              "      <td>0.097700</td>\n",
              "      <td>0.455</td>\n",
              "      <td>0.54700</td>\n",
              "      <td>0.6090</td>\n",
              "      <td>0.68425</td>\n",
              "      <td>0.862</td>\n",
              "    </tr>\n",
              "    <tr>\n",
              "      <th>SPW</th>\n",
              "      <td>50.0</td>\n",
              "      <td>0.58416</td>\n",
              "      <td>0.027177</td>\n",
              "      <td>0.488</td>\n",
              "      <td>0.56825</td>\n",
              "      <td>0.5810</td>\n",
              "      <td>0.59875</td>\n",
              "      <td>0.646</td>\n",
              "    </tr>\n",
              "    <tr>\n",
              "      <th>Aces</th>\n",
              "      <td>50.0</td>\n",
              "      <td>156.44000</td>\n",
              "      <td>110.715145</td>\n",
              "      <td>0.000</td>\n",
              "      <td>70.50000</td>\n",
              "      <td>135.0000</td>\n",
              "      <td>205.00000</td>\n",
              "      <td>488.000</td>\n",
              "    </tr>\n",
              "    <tr>\n",
              "      <th>AcePerc</th>\n",
              "      <td>50.0</td>\n",
              "      <td>0.04670</td>\n",
              "      <td>0.024952</td>\n",
              "      <td>0.000</td>\n",
              "      <td>0.02650</td>\n",
              "      <td>0.0425</td>\n",
              "      <td>0.05675</td>\n",
              "      <td>0.114</td>\n",
              "    </tr>\n",
              "    <tr>\n",
              "      <th>DFs</th>\n",
              "      <td>50.0</td>\n",
              "      <td>146.60000</td>\n",
              "      <td>83.182857</td>\n",
              "      <td>7.000</td>\n",
              "      <td>89.50000</td>\n",
              "      <td>126.0000</td>\n",
              "      <td>201.75000</td>\n",
              "      <td>350.000</td>\n",
              "    </tr>\n",
              "    <tr>\n",
              "      <th>DFPerc</th>\n",
              "      <td>50.0</td>\n",
              "      <td>0.04620</td>\n",
              "      <td>0.015314</td>\n",
              "      <td>0.024</td>\n",
              "      <td>0.03525</td>\n",
              "      <td>0.0430</td>\n",
              "      <td>0.05675</td>\n",
              "      <td>0.084</td>\n",
              "    </tr>\n",
              "    <tr>\n",
              "      <th>1stln</th>\n",
              "      <td>50.0</td>\n",
              "      <td>0.62216</td>\n",
              "      <td>0.039794</td>\n",
              "      <td>0.538</td>\n",
              "      <td>0.59500</td>\n",
              "      <td>0.6215</td>\n",
              "      <td>0.65150</td>\n",
              "      <td>0.726</td>\n",
              "    </tr>\n",
              "    <tr>\n",
              "      <th>1stPerc</th>\n",
              "      <td>50.0</td>\n",
              "      <td>0.65516</td>\n",
              "      <td>0.039929</td>\n",
              "      <td>0.564</td>\n",
              "      <td>0.63050</td>\n",
              "      <td>0.6480</td>\n",
              "      <td>0.68100</td>\n",
              "      <td>0.752</td>\n",
              "    </tr>\n",
              "    <tr>\n",
              "      <th>2ndPerc</th>\n",
              "      <td>50.0</td>\n",
              "      <td>0.46862</td>\n",
              "      <td>0.029869</td>\n",
              "      <td>0.345</td>\n",
              "      <td>0.46325</td>\n",
              "      <td>0.4770</td>\n",
              "      <td>0.48350</td>\n",
              "      <td>0.512</td>\n",
              "    </tr>\n",
              "    <tr>\n",
              "      <th>HldPerc</th>\n",
              "      <td>50.0</td>\n",
              "      <td>0.69314</td>\n",
              "      <td>0.061779</td>\n",
              "      <td>0.444</td>\n",
              "      <td>0.65875</td>\n",
              "      <td>0.6930</td>\n",
              "      <td>0.73250</td>\n",
              "      <td>0.801</td>\n",
              "    </tr>\n",
              "  </tbody>\n",
              "</table>\n",
              "</div>"
            ],
            "text/plain": [
              "          count       mean         std  ...       50%        75%      max\n",
              "M          50.0   47.58000   12.010353  ...   47.5000   54.50000   81.000\n",
              "M W        50.0   30.00000    9.936533  ...   28.0000   35.00000   55.000\n",
              "M W Perc   50.0    0.62470    0.097700  ...    0.6090    0.68425    0.862\n",
              "SPW        50.0    0.58416    0.027177  ...    0.5810    0.59875    0.646\n",
              "Aces       50.0  156.44000  110.715145  ...  135.0000  205.00000  488.000\n",
              "AcePerc    50.0    0.04670    0.024952  ...    0.0425    0.05675    0.114\n",
              "DFs        50.0  146.60000   83.182857  ...  126.0000  201.75000  350.000\n",
              "DFPerc     50.0    0.04620    0.015314  ...    0.0430    0.05675    0.084\n",
              "1stln      50.0    0.62216    0.039794  ...    0.6215    0.65150    0.726\n",
              "1stPerc    50.0    0.65516    0.039929  ...    0.6480    0.68100    0.752\n",
              "2ndPerc    50.0    0.46862    0.029869  ...    0.4770    0.48350    0.512\n",
              "HldPerc    50.0    0.69314    0.061779  ...    0.6930    0.73250    0.801\n",
              "\n",
              "[12 rows x 8 columns]"
            ]
          },
          "metadata": {
            "tags": []
          },
          "execution_count": 6
        },
        {
          "output_type": "execute_result",
          "data": {
            "text/html": [
              "<div>\n",
              "<style scoped>\n",
              "    .dataframe tbody tr th:only-of-type {\n",
              "        vertical-align: middle;\n",
              "    }\n",
              "\n",
              "    .dataframe tbody tr th {\n",
              "        vertical-align: top;\n",
              "    }\n",
              "\n",
              "    .dataframe thead th {\n",
              "        text-align: right;\n",
              "    }\n",
              "</style>\n",
              "<table border=\"1\" class=\"dataframe\">\n",
              "  <thead>\n",
              "    <tr style=\"text-align: right;\">\n",
              "      <th></th>\n",
              "      <th>median</th>\n",
              "      <th>var</th>\n",
              "    </tr>\n",
              "  </thead>\n",
              "  <tbody>\n",
              "    <tr>\n",
              "      <th>M</th>\n",
              "      <td>47.5000</td>\n",
              "      <td>144.248571</td>\n",
              "    </tr>\n",
              "    <tr>\n",
              "      <th>M W</th>\n",
              "      <td>28.0000</td>\n",
              "      <td>98.734694</td>\n",
              "    </tr>\n",
              "    <tr>\n",
              "      <th>M W Perc</th>\n",
              "      <td>0.6090</td>\n",
              "      <td>0.009545</td>\n",
              "    </tr>\n",
              "    <tr>\n",
              "      <th>SPW</th>\n",
              "      <td>0.5810</td>\n",
              "      <td>0.000739</td>\n",
              "    </tr>\n",
              "    <tr>\n",
              "      <th>Aces</th>\n",
              "      <td>135.0000</td>\n",
              "      <td>12257.843265</td>\n",
              "    </tr>\n",
              "    <tr>\n",
              "      <th>AcePerc</th>\n",
              "      <td>0.0425</td>\n",
              "      <td>0.000623</td>\n",
              "    </tr>\n",
              "    <tr>\n",
              "      <th>DFs</th>\n",
              "      <td>126.0000</td>\n",
              "      <td>6919.387755</td>\n",
              "    </tr>\n",
              "    <tr>\n",
              "      <th>DFPerc</th>\n",
              "      <td>0.0430</td>\n",
              "      <td>0.000235</td>\n",
              "    </tr>\n",
              "    <tr>\n",
              "      <th>1stln</th>\n",
              "      <td>0.6215</td>\n",
              "      <td>0.001584</td>\n",
              "    </tr>\n",
              "    <tr>\n",
              "      <th>1stPerc</th>\n",
              "      <td>0.6480</td>\n",
              "      <td>0.001594</td>\n",
              "    </tr>\n",
              "    <tr>\n",
              "      <th>2ndPerc</th>\n",
              "      <td>0.4770</td>\n",
              "      <td>0.000892</td>\n",
              "    </tr>\n",
              "    <tr>\n",
              "      <th>HldPerc</th>\n",
              "      <td>0.6930</td>\n",
              "      <td>0.003817</td>\n",
              "    </tr>\n",
              "  </tbody>\n",
              "</table>\n",
              "</div>"
            ],
            "text/plain": [
              "            median           var\n",
              "M          47.5000    144.248571\n",
              "M W        28.0000     98.734694\n",
              "M W Perc    0.6090      0.009545\n",
              "SPW         0.5810      0.000739\n",
              "Aces      135.0000  12257.843265\n",
              "AcePerc     0.0425      0.000623\n",
              "DFs       126.0000   6919.387755\n",
              "DFPerc      0.0430      0.000235\n",
              "1stln       0.6215      0.001584\n",
              "1stPerc     0.6480      0.001594\n",
              "2ndPerc     0.4770      0.000892\n",
              "HldPerc     0.6930      0.003817"
            ]
          },
          "metadata": {
            "tags": []
          },
          "execution_count": 6
        }
      ]
    },
    {
      "cell_type": "markdown",
      "metadata": {
        "id": "HrfRE-Hv_KY4"
      },
      "source": [
        "*An example of some summary statistics for a specific numeric variable grouped by a categorical variable is given below. The two variables used were _Aces_ and _Hand_."
      ]
    },
    {
      "cell_type": "code",
      "metadata": {
        "colab": {
          "base_uri": "https://localhost:8080/",
          "height": 173
        },
        "id": "nUg_S1op_yI4",
        "outputId": "dc1b13d1-b15e-47c2-eb60-ea9794036bd5"
      },
      "source": [
        "(serve.filter(['Aces', 'Hand'])\n",
        ".groupby(['Hand'])\n",
        ".describe())"
      ],
      "execution_count": 7,
      "outputs": [
        {
          "output_type": "execute_result",
          "data": {
            "text/html": [
              "<div>\n",
              "<style scoped>\n",
              "    .dataframe tbody tr th:only-of-type {\n",
              "        vertical-align: middle;\n",
              "    }\n",
              "\n",
              "    .dataframe tbody tr th {\n",
              "        vertical-align: top;\n",
              "    }\n",
              "\n",
              "    .dataframe thead tr th {\n",
              "        text-align: left;\n",
              "    }\n",
              "\n",
              "    .dataframe thead tr:last-of-type th {\n",
              "        text-align: right;\n",
              "    }\n",
              "</style>\n",
              "<table border=\"1\" class=\"dataframe\">\n",
              "  <thead>\n",
              "    <tr>\n",
              "      <th></th>\n",
              "      <th colspan=\"8\" halign=\"left\">Aces</th>\n",
              "    </tr>\n",
              "    <tr>\n",
              "      <th></th>\n",
              "      <th>count</th>\n",
              "      <th>mean</th>\n",
              "      <th>std</th>\n",
              "      <th>min</th>\n",
              "      <th>25%</th>\n",
              "      <th>50%</th>\n",
              "      <th>75%</th>\n",
              "      <th>max</th>\n",
              "    </tr>\n",
              "    <tr>\n",
              "      <th>Hand</th>\n",
              "      <th></th>\n",
              "      <th></th>\n",
              "      <th></th>\n",
              "      <th></th>\n",
              "      <th></th>\n",
              "      <th></th>\n",
              "      <th></th>\n",
              "      <th></th>\n",
              "    </tr>\n",
              "  </thead>\n",
              "  <tbody>\n",
              "    <tr>\n",
              "      <th>left</th>\n",
              "      <td>4.0</td>\n",
              "      <td>106.75000</td>\n",
              "      <td>96.240584</td>\n",
              "      <td>56.0</td>\n",
              "      <td>56.00</td>\n",
              "      <td>60.0</td>\n",
              "      <td>110.75</td>\n",
              "      <td>251.0</td>\n",
              "    </tr>\n",
              "    <tr>\n",
              "      <th>right</th>\n",
              "      <td>46.0</td>\n",
              "      <td>160.76087</td>\n",
              "      <td>111.764869</td>\n",
              "      <td>0.0</td>\n",
              "      <td>87.75</td>\n",
              "      <td>136.5</td>\n",
              "      <td>205.00</td>\n",
              "      <td>488.0</td>\n",
              "    </tr>\n",
              "  </tbody>\n",
              "</table>\n",
              "</div>"
            ],
            "text/plain": [
              "       Aces                                                          \n",
              "      count       mean         std   min    25%    50%     75%    max\n",
              "Hand                                                                 \n",
              "left    4.0  106.75000   96.240584  56.0  56.00   60.0  110.75  251.0\n",
              "right  46.0  160.76087  111.764869   0.0  87.75  136.5  205.00  488.0"
            ]
          },
          "metadata": {
            "tags": []
          },
          "execution_count": 7
        }
      ]
    },
    {
      "cell_type": "markdown",
      "metadata": {
        "id": "3HkGifPUAb1m"
      },
      "source": [
        "Based on this table, there are only 4 observations for left-handed players while there are 46 observations for right-handed players. Also, the mean number of aces and standard deviation are observed to be greater for right-heanded players. Other statistics are also found in the table."
      ]
    },
    {
      "cell_type": "markdown",
      "metadata": {
        "id": "ceNPWwzCzz9f"
      },
      "source": [
        "### Exploratory Data Analysis\n",
        "*Here, I took the numeric variable _AcePerc_ (percentage of aces) and the categorical variable _Height_ (above or equal/under 5'9\"). To determine whether the mean ace percentage differs between players above and players equal to/under 5'9\", an independent t-test was performed, where the null hypothesis was that the ace percentage means between players above and equal/under 5'9\" were not significantly different. I also included visuals displaying the relationship between the two variables."
      ]
    },
    {
      "cell_type": "code",
      "metadata": {
        "colab": {
          "base_uri": "https://localhost:8080/",
          "height": 312
        },
        "id": "brgbDLTME37R",
        "outputId": "5f9637c8-3c24-4823-d11b-9763a4d660f7"
      },
      "source": [
        "# Create violin plot to display relationship between 'AcePerc' and 'Height\n",
        "sns.violinplot(data = serve, x = \"AcePerc\", y = \"Height\").set_title('Violin Plot of Ace Percentage based on Height')"
      ],
      "execution_count": 8,
      "outputs": [
        {
          "output_type": "execute_result",
          "data": {
            "text/plain": [
              "Text(0.5, 1.0, 'Violin Plot of Ace Percentage based on Height')"
            ]
          },
          "metadata": {
            "tags": []
          },
          "execution_count": 8
        },
        {
          "output_type": "display_data",
          "data": {
            "image/png": "[encoded data removed]",
            "text/plain": [
              "<Figure size 432x288 with 1 Axes>"
            ]
          },
          "metadata": {
            "tags": [],
            "needs_background": "light"
          }
        }
      ]
    },
    {
      "cell_type": "code",
      "metadata": {
        "colab": {
          "base_uri": "https://localhost:8080/"
        },
        "id": "SwGIix7zPSzu",
        "outputId": "d7d9de85-c586-4ca8-e1c7-f734dfa58f0f"
      },
      "source": [
        "# Perform independent t-test\n",
        "stats.ttest_ind(serve['AcePerc'][serve['Height'] == 'above'],\n",
        "                serve['AcePerc'][serve['Height'] == 'under'])"
      ],
      "execution_count": 9,
      "outputs": [
        {
          "output_type": "execute_result",
          "data": {
            "text/plain": [
              "Ttest_indResult(statistic=2.512142306328478, pvalue=0.015415832560663072)"
            ]
          },
          "metadata": {
            "tags": []
          },
          "execution_count": 9
        }
      ]
    },
    {
      "cell_type": "markdown",
      "metadata": {
        "id": "2_ZAKqNWP1Rp"
      },
      "source": [
        "*The violin plot shows that the two white dots, which represent the mean/median, do not fall within each other's interquartile ranges (the bold black line). This indicates that the means of ace percentage between above and under are likely significantly different. After performing the independent t-test, I found that there was a significant difference in mean ace percentage between those above and those equal/under 5'9\" since the p-value was less than 0.05 (t-stat = 2.51; p-value = 0.01).*"
      ]
    },
    {
      "cell_type": "markdown",
      "metadata": {
        "id": "r2GwWGlT2SW2"
      },
      "source": [
        "## Additional Visuals\n",
        "*I constructed a heatmap for the correlation matrix of the numeric variables as well as univariate and bivariate plots for only 7 of the numeric variables since there would be too many plots if all 12 numeric variables were included.*\n",
        "*Looking at the heatmap, only considering the magnitude and not the sign of the value, the highest correlation is found between _HldPerc_ and _SPW_ with 0.98, and the lowest correlation is found between _M W Perc_ and _2ndPerc_ with 0.016.\n"
      ]
    },
    {
      "cell_type": "code",
      "metadata": {
        "colab": {
          "base_uri": "https://localhost:8080/",
          "height": 318
        },
        "id": "vLKmvI-f2ahu",
        "outputId": "81f4d951-8cee-4bdc-b007-76491330b2d1"
      },
      "source": [
        "# Create heatmap for the correlation matrix (numeric variables)\n",
        "sns.heatmap(serve.corr(),  annot = True, cbar_kws= {'orientation': 'horizontal'}, cbar = False, cmap = 'PuBu')"
      ],
      "execution_count": 10,
      "outputs": [
        {
          "output_type": "execute_result",
          "data": {
            "text/plain": [
              "<matplotlib.axes._subplots.AxesSubplot at 0x7f03fa010e50>"
            ]
          },
          "metadata": {
            "tags": []
          },
          "execution_count": 10
        },
        {
          "output_type": "display_data",
          "data": {
            "image/png": "[encoded data removed]",
            "text/plain": [
              "<Figure size 432x288 with 1 Axes>"
            ]
          },
          "metadata": {
            "tags": [],
            "needs_background": "light"
          }
        }
      ]
    },
    {
      "cell_type": "code",
      "metadata": {
        "id": "f15GwcczZ-PG"
      },
      "source": [
        "# Bivariate and univariate relationship plots\n",
        "sns.pairplot(serve.filter(['M W Perc', 'SPW', 'AcePerc', 'DFPerc', '1stPerc', '2ndPerc', 'HldPerc']))"
      ],
      "execution_count": null,
      "outputs": []
    },
    {
      "cell_type": "markdown",
      "metadata": {
        "id": "eGNJ_Rq9HYuY"
      },
      "source": [
        "--------------------\n",
        "### References\n",
        "https://www.wtatennis.com/stats/2019 (https://www.wtatennis.com/stats/2019) and \n",
        "http://www.tennisabstract.com/cgi-bin/leaders_wta.cgi?f=A2019qqs00w1"
      ]
    }
  ]
}